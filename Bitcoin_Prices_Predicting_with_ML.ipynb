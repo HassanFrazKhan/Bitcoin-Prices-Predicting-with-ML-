{
  "cells": [
    {
      "cell_type": "markdown",
      "metadata": {
        "id": "view-in-github",
        "colab_type": "text"
      },
      "source": [
        "<a href=\"https://colab.research.google.com/github/HassanFrazKhan/Bitcoin-Prices-Predicting-with-ML-/blob/main/Bitcoin_Prices_Predicting_with_ML.ipynb\" target=\"_parent\"><img src=\"https://colab.research.google.com/assets/colab-badge.svg\" alt=\"Open In Colab\"/></a>"
      ]
    },
    {
      "cell_type": "markdown",
      "metadata": {
        "id": "lOFrYlnUI5Zi"
      },
      "source": [
        "### **Data Preparation**"
      ]
    },
    {
      "cell_type": "code",
      "execution_count": null,
      "metadata": {
        "colab": {
          "base_uri": "https://localhost:8080/"
        },
        "id": "RL4iYoOxoe9g",
        "outputId": "082496de-6c27-45ce-db99-932c4721b311"
      },
      "outputs": [
        {
          "output_type": "stream",
          "name": "stderr",
          "text": [
            "\r[*********************100%***********************]  1 of 1 completed\n"
          ]
        }
      ],
      "source": [
        "import yfinance as yf\n",
        "import pandas as pd\n",
        "import numpy as np\n",
        "from datetime import datetime\n",
        "from sklearn.linear_model import LinearRegression\n",
        "from sklearn.ensemble import RandomForestRegressor\n",
        "from sklearn.metrics import mean_absolute_error, mean_squared_error, r2_score\n",
        "import matplotlib.pyplot as plt\n",
        "\n",
        "# Fetching Bitcoin data\n",
        "end_date = datetime.today().strftime('%Y-%m-%d')\n",
        "btc_data = yf.download(\"BTC-USD\", start=\"2014-01-01\", end=end_date, interval=\"1d\")\n",
        "\n",
        "# Ensuring the data is sorted by date\n",
        "btc_data.sort_index(inplace=True)\n",
        "\n",
        "# Calculate features using only past data (shifted by 1 day)\n",
        "btc_data['MA_5'] = btc_data['Close'].rolling(window=5).mean().shift(1)\n",
        "btc_data['MA_10'] = btc_data['Close'].rolling(window=10).mean().shift(1)\n",
        "btc_data['MA_50'] = btc_data['Close'].rolling(window=50).mean().shift(1)\n",
        "\n",
        "# Calculate Daily Returns (shifted by 1 day)\n",
        "btc_data['Daily_Returns'] = btc_data['Close'].pct_change().shift(1) * 100\n",
        "\n",
        "# Calculate Volatility (Rolling Standard Deviation of Returns, shifted by 1 day)\n",
        "btc_data['Volatility'] = btc_data['Daily_Returns'].rolling(window=10).std().shift(1)\n",
        "\n",
        "# Drop rows with NaN values (due to shifting and rolling calculations)\n",
        "btc_data.dropna(inplace=True)\n",
        "\n",
        "# Define features (X) and target variable (y)\n",
        "X = btc_data[['MA_5', 'MA_10', 'MA_50', 'Daily_Returns', 'Volatility']]\n",
        "y = btc_data['Close']\n",
        "\n",
        "# Split data based on time\n",
        "train_data = btc_data[btc_data.index < '2023-01-01']\n",
        "test_data = btc_data[btc_data.index >= '2023-01-01']\n",
        "\n",
        "X_train = train_data[['MA_5', 'MA_10', 'MA_50', 'Daily_Returns', 'Volatility']]\n",
        "y_train = train_data['Close']\n",
        "X_test = test_data[['MA_5', 'MA_10', 'MA_50', 'Daily_Returns', 'Volatility']]\n",
        "y_test = test_data['Close']\n",
        "\n",
        "train_data.to_csv(\"train_data.csv\")\n",
        "test_data.to_csv(\"test_data.csv\")\n",
        "X_train.to_csv(\"train_features.csv\")\n",
        "y_train.to_csv(\"train_target.csv\")\n",
        "X_test.to_csv(\"test_features.csv\")\n",
        "y_test.to_csv(\"test_target.csv\")\n"
      ]
    },
    {
      "cell_type": "markdown",
      "metadata": {
        "id": "BdWbK-bpDzYo"
      },
      "source": [
        "### dataset description"
      ]
    },
    {
      "cell_type": "code",
      "execution_count": null,
      "metadata": {
        "colab": {
          "base_uri": "https://localhost:8080/"
        },
        "id": "WH7nI32AdD1G",
        "outputId": "cbaadcad-78dd-408c-9295-e429f7e6716d"
      },
      "outputs": [
        {
          "output_type": "stream",
          "name": "stdout",
          "text": [
            "Total number of days present in the dataset: 3706\n",
            "Total number of fields present in the dataset: 11\n"
          ]
        }
      ],
      "source": [
        "# Printing the total number of days and features in the dataset\n",
        "print('Total number of days present in the dataset:', btc_data.shape[0])\n",
        "print('Total number of fields present in the dataset:', btc_data.shape[1])\n",
        "\n"
      ]
    },
    {
      "cell_type": "code",
      "execution_count": null,
      "metadata": {
        "id": "BIJGMorBDzYp",
        "outputId": "eca2eb42-bd63-4613-f37d-b3a16b73c083",
        "colab": {
          "base_uri": "https://localhost:8080/"
        }
      },
      "outputs": [
        {
          "output_type": "stream",
          "name": "stdout",
          "text": [
            "Null Values: 0\n",
            "NA values: False\n"
          ]
        }
      ],
      "source": [
        "# Checking the null values\n",
        "print('Null Values:',btc_data.isnull().values.sum())\n",
        "print('NA values:',btc_data.isnull().values.any())"
      ]
    },
    {
      "cell_type": "markdown",
      "metadata": {
        "id": "NNUSn3DMDzYp"
      },
      "source": [
        "### Summary of the DataFrame"
      ]
    },
    {
      "cell_type": "code",
      "execution_count": null,
      "metadata": {
        "colab": {
          "base_uri": "https://localhost:8080/"
        },
        "id": "pnphhgpFdRnS",
        "outputId": "4a8717e7-192d-49db-e26f-38648572557a"
      },
      "outputs": [
        {
          "output_type": "stream",
          "name": "stdout",
          "text": [
            "<class 'pandas.core.frame.DataFrame'>\n",
            "DatetimeIndex: 3706 entries, 2014-11-06 to 2024-12-28\n",
            "Data columns (total 11 columns):\n",
            " #   Column                Non-Null Count  Dtype  \n",
            "---  ------                --------------  -----  \n",
            " 0   (Adj Close, BTC-USD)  3706 non-null   float64\n",
            " 1   (Close, BTC-USD)      3706 non-null   float64\n",
            " 2   (High, BTC-USD)       3706 non-null   float64\n",
            " 3   (Low, BTC-USD)        3706 non-null   float64\n",
            " 4   (Open, BTC-USD)       3706 non-null   float64\n",
            " 5   (Volume, BTC-USD)     3706 non-null   int64  \n",
            " 6   (MA_5, )              3706 non-null   float64\n",
            " 7   (MA_10, )             3706 non-null   float64\n",
            " 8   (MA_50, )             3706 non-null   float64\n",
            " 9   (Daily_Returns, )     3706 non-null   float64\n",
            " 10  (Volatility, )        3706 non-null   float64\n",
            "dtypes: float64(10), int64(1)\n",
            "memory usage: 347.4 KB\n"
          ]
        }
      ],
      "source": [
        "\n",
        "btc_data.info()\n"
      ]
    },
    {
      "cell_type": "code",
      "execution_count": null,
      "metadata": {
        "colab": {
          "base_uri": "https://localhost:8080/",
          "height": 388
        },
        "id": "xeEv4vXRdHm5",
        "outputId": "15dd12d7-3213-4db3-fef1-9b20149092ec"
      },
      "outputs": [
        {
          "output_type": "execute_result",
          "data": {
            "text/plain": [
              "Price        Adj Close       Close        High         Low        Open  \\\n",
              "Ticker         BTC-USD     BTC-USD     BTC-USD     BTC-USD     BTC-USD   \n",
              "Date                                                                     \n",
              "2014-11-06  349.290009  349.290009  352.966003  338.424011  339.458008   \n",
              "2014-11-07  342.415009  342.415009  352.731995  341.776001  349.817993   \n",
              "2014-11-08  345.488007  345.488007  347.032013  342.153992  342.153992   \n",
              "2014-11-09  363.264008  363.264008  363.626007  344.255005  345.376007   \n",
              "2014-11-10  366.924011  366.924011  374.816010  357.561005  362.265015   \n",
              "\n",
              "Price         Volume        MA_5       MA_10       MA_50 Daily_Returns  \\\n",
              "Ticker       BTC-USD                                                     \n",
              "Date                                                                     \n",
              "2014-11-06  18797000  329.834595  337.899701  372.766840      2.721394   \n",
              "2014-11-07  16834200  334.542798  337.529800  370.605960      2.887900   \n",
              "2014-11-08   8535470  337.847400  336.009500  368.965460     -1.968278   \n",
              "2014-11-09  24205600  341.434204  336.999200  367.979301      0.897448   \n",
              "2014-11-10  30450100  347.988605  338.795102  367.066501      5.145186   \n",
              "\n",
              "Price      Volatility  \n",
              "Ticker                 \n",
              "Date                   \n",
              "2014-11-06   2.783198  \n",
              "2014-11-07   2.848767  \n",
              "2014-11-08   3.031467  \n",
              "2014-11-09   3.043618  \n",
              "2014-11-10   2.279882  "
            ],
            "text/html": [
              "\n",
              "  <div id=\"df-bf24c6a0-9973-4c83-af08-0b3f041c2ea3\" class=\"colab-df-container\">\n",
              "    <div>\n",
              "<style scoped>\n",
              "    .dataframe tbody tr th:only-of-type {\n",
              "        vertical-align: middle;\n",
              "    }\n",
              "\n",
              "    .dataframe tbody tr th {\n",
              "        vertical-align: top;\n",
              "    }\n",
              "\n",
              "    .dataframe thead tr th {\n",
              "        text-align: left;\n",
              "    }\n",
              "\n",
              "    .dataframe thead tr:last-of-type th {\n",
              "        text-align: right;\n",
              "    }\n",
              "</style>\n",
              "<table border=\"1\" class=\"dataframe\">\n",
              "  <thead>\n",
              "    <tr>\n",
              "      <th>Price</th>\n",
              "      <th>Adj Close</th>\n",
              "      <th>Close</th>\n",
              "      <th>High</th>\n",
              "      <th>Low</th>\n",
              "      <th>Open</th>\n",
              "      <th>Volume</th>\n",
              "      <th>MA_5</th>\n",
              "      <th>MA_10</th>\n",
              "      <th>MA_50</th>\n",
              "      <th>Daily_Returns</th>\n",
              "      <th>Volatility</th>\n",
              "    </tr>\n",
              "    <tr>\n",
              "      <th>Ticker</th>\n",
              "      <th>BTC-USD</th>\n",
              "      <th>BTC-USD</th>\n",
              "      <th>BTC-USD</th>\n",
              "      <th>BTC-USD</th>\n",
              "      <th>BTC-USD</th>\n",
              "      <th>BTC-USD</th>\n",
              "      <th></th>\n",
              "      <th></th>\n",
              "      <th></th>\n",
              "      <th></th>\n",
              "      <th></th>\n",
              "    </tr>\n",
              "    <tr>\n",
              "      <th>Date</th>\n",
              "      <th></th>\n",
              "      <th></th>\n",
              "      <th></th>\n",
              "      <th></th>\n",
              "      <th></th>\n",
              "      <th></th>\n",
              "      <th></th>\n",
              "      <th></th>\n",
              "      <th></th>\n",
              "      <th></th>\n",
              "      <th></th>\n",
              "    </tr>\n",
              "  </thead>\n",
              "  <tbody>\n",
              "    <tr>\n",
              "      <th>2014-11-06</th>\n",
              "      <td>349.290009</td>\n",
              "      <td>349.290009</td>\n",
              "      <td>352.966003</td>\n",
              "      <td>338.424011</td>\n",
              "      <td>339.458008</td>\n",
              "      <td>18797000</td>\n",
              "      <td>329.834595</td>\n",
              "      <td>337.899701</td>\n",
              "      <td>372.766840</td>\n",
              "      <td>2.721394</td>\n",
              "      <td>2.783198</td>\n",
              "    </tr>\n",
              "    <tr>\n",
              "      <th>2014-11-07</th>\n",
              "      <td>342.415009</td>\n",
              "      <td>342.415009</td>\n",
              "      <td>352.731995</td>\n",
              "      <td>341.776001</td>\n",
              "      <td>349.817993</td>\n",
              "      <td>16834200</td>\n",
              "      <td>334.542798</td>\n",
              "      <td>337.529800</td>\n",
              "      <td>370.605960</td>\n",
              "      <td>2.887900</td>\n",
              "      <td>2.848767</td>\n",
              "    </tr>\n",
              "    <tr>\n",
              "      <th>2014-11-08</th>\n",
              "      <td>345.488007</td>\n",
              "      <td>345.488007</td>\n",
              "      <td>347.032013</td>\n",
              "      <td>342.153992</td>\n",
              "      <td>342.153992</td>\n",
              "      <td>8535470</td>\n",
              "      <td>337.847400</td>\n",
              "      <td>336.009500</td>\n",
              "      <td>368.965460</td>\n",
              "      <td>-1.968278</td>\n",
              "      <td>3.031467</td>\n",
              "    </tr>\n",
              "    <tr>\n",
              "      <th>2014-11-09</th>\n",
              "      <td>363.264008</td>\n",
              "      <td>363.264008</td>\n",
              "      <td>363.626007</td>\n",
              "      <td>344.255005</td>\n",
              "      <td>345.376007</td>\n",
              "      <td>24205600</td>\n",
              "      <td>341.434204</td>\n",
              "      <td>336.999200</td>\n",
              "      <td>367.979301</td>\n",
              "      <td>0.897448</td>\n",
              "      <td>3.043618</td>\n",
              "    </tr>\n",
              "    <tr>\n",
              "      <th>2014-11-10</th>\n",
              "      <td>366.924011</td>\n",
              "      <td>366.924011</td>\n",
              "      <td>374.816010</td>\n",
              "      <td>357.561005</td>\n",
              "      <td>362.265015</td>\n",
              "      <td>30450100</td>\n",
              "      <td>347.988605</td>\n",
              "      <td>338.795102</td>\n",
              "      <td>367.066501</td>\n",
              "      <td>5.145186</td>\n",
              "      <td>2.279882</td>\n",
              "    </tr>\n",
              "  </tbody>\n",
              "</table>\n",
              "</div>\n",
              "    <div class=\"colab-df-buttons\">\n",
              "\n",
              "  <div class=\"colab-df-container\">\n",
              "    <button class=\"colab-df-convert\" onclick=\"convertToInteractive('df-bf24c6a0-9973-4c83-af08-0b3f041c2ea3')\"\n",
              "            title=\"Convert this dataframe to an interactive table.\"\n",
              "            style=\"display:none;\">\n",
              "\n",
              "  <svg xmlns=\"http://www.w3.org/2000/svg\" height=\"24px\" viewBox=\"0 -960 960 960\">\n",
              "    <path d=\"M120-120v-720h720v720H120Zm60-500h600v-160H180v160Zm220 220h160v-160H400v160Zm0 220h160v-160H400v160ZM180-400h160v-160H180v160Zm440 0h160v-160H620v160ZM180-180h160v-160H180v160Zm440 0h160v-160H620v160Z\"/>\n",
              "  </svg>\n",
              "    </button>\n",
              "\n",
              "  <style>\n",
              "    .colab-df-container {\n",
              "      display:flex;\n",
              "      gap: 12px;\n",
              "    }\n",
              "\n",
              "    .colab-df-convert {\n",
              "      background-color: #E8F0FE;\n",
              "      border: none;\n",
              "      border-radius: 50%;\n",
              "      cursor: pointer;\n",
              "      display: none;\n",
              "      fill: #1967D2;\n",
              "      height: 32px;\n",
              "      padding: 0 0 0 0;\n",
              "      width: 32px;\n",
              "    }\n",
              "\n",
              "    .colab-df-convert:hover {\n",
              "      background-color: #E2EBFA;\n",
              "      box-shadow: 0px 1px 2px rgba(60, 64, 67, 0.3), 0px 1px 3px 1px rgba(60, 64, 67, 0.15);\n",
              "      fill: #174EA6;\n",
              "    }\n",
              "\n",
              "    .colab-df-buttons div {\n",
              "      margin-bottom: 4px;\n",
              "    }\n",
              "\n",
              "    [theme=dark] .colab-df-convert {\n",
              "      background-color: #3B4455;\n",
              "      fill: #D2E3FC;\n",
              "    }\n",
              "\n",
              "    [theme=dark] .colab-df-convert:hover {\n",
              "      background-color: #434B5C;\n",
              "      box-shadow: 0px 1px 3px 1px rgba(0, 0, 0, 0.15);\n",
              "      filter: drop-shadow(0px 1px 2px rgba(0, 0, 0, 0.3));\n",
              "      fill: #FFFFFF;\n",
              "    }\n",
              "  </style>\n",
              "\n",
              "    <script>\n",
              "      const buttonEl =\n",
              "        document.querySelector('#df-bf24c6a0-9973-4c83-af08-0b3f041c2ea3 button.colab-df-convert');\n",
              "      buttonEl.style.display =\n",
              "        google.colab.kernel.accessAllowed ? 'block' : 'none';\n",
              "\n",
              "      async function convertToInteractive(key) {\n",
              "        const element = document.querySelector('#df-bf24c6a0-9973-4c83-af08-0b3f041c2ea3');\n",
              "        const dataTable =\n",
              "          await google.colab.kernel.invokeFunction('convertToInteractive',\n",
              "                                                    [key], {});\n",
              "        if (!dataTable) return;\n",
              "\n",
              "        const docLinkHtml = 'Like what you see? Visit the ' +\n",
              "          '<a target=\"_blank\" href=https://colab.research.google.com/notebooks/data_table.ipynb>data table notebook</a>'\n",
              "          + ' to learn more about interactive tables.';\n",
              "        element.innerHTML = '';\n",
              "        dataTable['output_type'] = 'display_data';\n",
              "        await google.colab.output.renderOutput(dataTable, element);\n",
              "        const docLink = document.createElement('div');\n",
              "        docLink.innerHTML = docLinkHtml;\n",
              "        element.appendChild(docLink);\n",
              "      }\n",
              "    </script>\n",
              "  </div>\n",
              "\n",
              "\n",
              "<div id=\"df-c7b97162-f3d2-4cbb-9dbc-6394248deb54\">\n",
              "  <button class=\"colab-df-quickchart\" onclick=\"quickchart('df-c7b97162-f3d2-4cbb-9dbc-6394248deb54')\"\n",
              "            title=\"Suggest charts\"\n",
              "            style=\"display:none;\">\n",
              "\n",
              "<svg xmlns=\"http://www.w3.org/2000/svg\" height=\"24px\"viewBox=\"0 0 24 24\"\n",
              "     width=\"24px\">\n",
              "    <g>\n",
              "        <path d=\"M19 3H5c-1.1 0-2 .9-2 2v14c0 1.1.9 2 2 2h14c1.1 0 2-.9 2-2V5c0-1.1-.9-2-2-2zM9 17H7v-7h2v7zm4 0h-2V7h2v10zm4 0h-2v-4h2v4z\"/>\n",
              "    </g>\n",
              "</svg>\n",
              "  </button>\n",
              "\n",
              "<style>\n",
              "  .colab-df-quickchart {\n",
              "      --bg-color: #E8F0FE;\n",
              "      --fill-color: #1967D2;\n",
              "      --hover-bg-color: #E2EBFA;\n",
              "      --hover-fill-color: #174EA6;\n",
              "      --disabled-fill-color: #AAA;\n",
              "      --disabled-bg-color: #DDD;\n",
              "  }\n",
              "\n",
              "  [theme=dark] .colab-df-quickchart {\n",
              "      --bg-color: #3B4455;\n",
              "      --fill-color: #D2E3FC;\n",
              "      --hover-bg-color: #434B5C;\n",
              "      --hover-fill-color: #FFFFFF;\n",
              "      --disabled-bg-color: #3B4455;\n",
              "      --disabled-fill-color: #666;\n",
              "  }\n",
              "\n",
              "  .colab-df-quickchart {\n",
              "    background-color: var(--bg-color);\n",
              "    border: none;\n",
              "    border-radius: 50%;\n",
              "    cursor: pointer;\n",
              "    display: none;\n",
              "    fill: var(--fill-color);\n",
              "    height: 32px;\n",
              "    padding: 0;\n",
              "    width: 32px;\n",
              "  }\n",
              "\n",
              "  .colab-df-quickchart:hover {\n",
              "    background-color: var(--hover-bg-color);\n",
              "    box-shadow: 0 1px 2px rgba(60, 64, 67, 0.3), 0 1px 3px 1px rgba(60, 64, 67, 0.15);\n",
              "    fill: var(--button-hover-fill-color);\n",
              "  }\n",
              "\n",
              "  .colab-df-quickchart-complete:disabled,\n",
              "  .colab-df-quickchart-complete:disabled:hover {\n",
              "    background-color: var(--disabled-bg-color);\n",
              "    fill: var(--disabled-fill-color);\n",
              "    box-shadow: none;\n",
              "  }\n",
              "\n",
              "  .colab-df-spinner {\n",
              "    border: 2px solid var(--fill-color);\n",
              "    border-color: transparent;\n",
              "    border-bottom-color: var(--fill-color);\n",
              "    animation:\n",
              "      spin 1s steps(1) infinite;\n",
              "  }\n",
              "\n",
              "  @keyframes spin {\n",
              "    0% {\n",
              "      border-color: transparent;\n",
              "      border-bottom-color: var(--fill-color);\n",
              "      border-left-color: var(--fill-color);\n",
              "    }\n",
              "    20% {\n",
              "      border-color: transparent;\n",
              "      border-left-color: var(--fill-color);\n",
              "      border-top-color: var(--fill-color);\n",
              "    }\n",
              "    30% {\n",
              "      border-color: transparent;\n",
              "      border-left-color: var(--fill-color);\n",
              "      border-top-color: var(--fill-color);\n",
              "      border-right-color: var(--fill-color);\n",
              "    }\n",
              "    40% {\n",
              "      border-color: transparent;\n",
              "      border-right-color: var(--fill-color);\n",
              "      border-top-color: var(--fill-color);\n",
              "    }\n",
              "    60% {\n",
              "      border-color: transparent;\n",
              "      border-right-color: var(--fill-color);\n",
              "    }\n",
              "    80% {\n",
              "      border-color: transparent;\n",
              "      border-right-color: var(--fill-color);\n",
              "      border-bottom-color: var(--fill-color);\n",
              "    }\n",
              "    90% {\n",
              "      border-color: transparent;\n",
              "      border-bottom-color: var(--fill-color);\n",
              "    }\n",
              "  }\n",
              "</style>\n",
              "\n",
              "  <script>\n",
              "    async function quickchart(key) {\n",
              "      const quickchartButtonEl =\n",
              "        document.querySelector('#' + key + ' button');\n",
              "      quickchartButtonEl.disabled = true;  // To prevent multiple clicks.\n",
              "      quickchartButtonEl.classList.add('colab-df-spinner');\n",
              "      try {\n",
              "        const charts = await google.colab.kernel.invokeFunction(\n",
              "            'suggestCharts', [key], {});\n",
              "      } catch (error) {\n",
              "        console.error('Error during call to suggestCharts:', error);\n",
              "      }\n",
              "      quickchartButtonEl.classList.remove('colab-df-spinner');\n",
              "      quickchartButtonEl.classList.add('colab-df-quickchart-complete');\n",
              "    }\n",
              "    (() => {\n",
              "      let quickchartButtonEl =\n",
              "        document.querySelector('#df-c7b97162-f3d2-4cbb-9dbc-6394248deb54 button');\n",
              "      quickchartButtonEl.style.display =\n",
              "        google.colab.kernel.accessAllowed ? 'block' : 'none';\n",
              "    })();\n",
              "  </script>\n",
              "</div>\n",
              "\n",
              "    </div>\n",
              "  </div>\n"
            ],
            "application/vnd.google.colaboratory.intrinsic+json": {
              "type": "dataframe",
              "variable_name": "btc_data",
              "summary": "{\n  \"name\": \"btc_data\",\n  \"rows\": 3706,\n  \"fields\": [\n    {\n      \"column\": [\n        \"Date\",\n        \"\"\n      ],\n      \"properties\": {\n        \"dtype\": \"date\",\n        \"min\": \"2014-11-06 00:00:00\",\n        \"max\": \"2024-12-28 00:00:00\",\n        \"num_unique_values\": 3706,\n        \"samples\": [\n          \"2023-05-16 00:00:00\",\n          \"2017-10-09 00:00:00\",\n          \"2020-06-13 00:00:00\"\n        ],\n        \"semantic_type\": \"\",\n        \"description\": \"\"\n      }\n    },\n    {\n      \"column\": [\n        \"Adj Close\",\n        \"BTC-USD\"\n      ],\n      \"properties\": {\n        \"dtype\": \"number\",\n        \"std\": 22072.08519550241,\n        \"min\": 178.10299682617188,\n        \"max\": 106140.6015625,\n        \"num_unique_values\": 3703,\n        \"samples\": [\n          9729.32421875,\n          29268.806640625,\n          13437.8828125\n        ],\n        \"semantic_type\": \"\",\n        \"description\": \"\"\n      }\n    },\n    {\n      \"column\": [\n        \"Close\",\n        \"BTC-USD\"\n      ],\n      \"properties\": {\n        \"dtype\": \"number\",\n        \"std\": 22072.08519550241,\n        \"min\": 178.10299682617188,\n        \"max\": 106140.6015625,\n        \"num_unique_values\": 3703,\n        \"samples\": [\n          9729.32421875,\n          29268.806640625,\n          13437.8828125\n        ],\n        \"semantic_type\": \"\",\n        \"description\": \"\"\n      }\n    },\n    {\n      \"column\": [\n        \"High\",\n        \"BTC-USD\"\n      ],\n      \"properties\": {\n        \"dtype\": \"number\",\n        \"std\": 22527.869232029716,\n        \"min\": 211.7310028076172,\n        \"max\": 108268.4453125,\n        \"num_unique_values\": 3703,\n        \"samples\": [\n          10074.23828125,\n          29952.029296875,\n          13612.0478515625\n        ],\n        \"semantic_type\": \"\",\n        \"description\": \"\"\n      }\n    },\n    {\n      \"column\": [\n        \"Low\",\n        \"BTC-USD\"\n      ],\n      \"properties\": {\n        \"dtype\": \"number\",\n        \"std\": 21541.476280183342,\n        \"min\": 171.50999450683594,\n        \"max\": 105291.734375,\n        \"num_unique_values\": 3704,\n        \"samples\": [\n          57217.82421875,\n          4765.10009765625,\n          9285.8515625\n        ],\n        \"semantic_type\": \"\",\n        \"description\": \"\"\n      }\n    },\n    {\n      \"column\": [\n        \"Open\",\n        \"BTC-USD\"\n      ],\n      \"properties\": {\n        \"dtype\": \"number\",\n        \"std\": 22041.60054583706,\n        \"min\": 176.89700317382812,\n        \"max\": 106147.296875,\n        \"num_unique_values\": 3702,\n        \"samples\": [\n          7145.1591796875,\n          32129.408203125,\n          40944.83984375\n        ],\n        \"semantic_type\": \"\",\n        \"description\": \"\"\n      }\n    },\n    {\n      \"column\": [\n        \"Volume\",\n        \"BTC-USD\"\n      ],\n      \"properties\": {\n        \"dtype\": \"number\",\n        \"std\": 20358868953,\n        \"min\": 6491650,\n        \"max\": 350967941479,\n        \"num_unique_values\": 3706,\n        \"samples\": [\n          12732238816,\n          1968739968,\n          17564322315\n        ],\n        \"semantic_type\": \"\",\n        \"description\": \"\"\n      }\n    },\n    {\n      \"column\": [\n        \"MA_5\",\n        \"\"\n      ],\n      \"properties\": {\n        \"dtype\": \"number\",\n        \"std\": 21956.67608176833,\n        \"min\": 201.12859802246095,\n        \"max\": 103860.2484375,\n        \"num_unique_values\": 3706,\n        \"samples\": [\n          26942.637890625,\n          4393.1900390625,\n          9647.9818359375\n        ],\n        \"semantic_type\": \"\",\n        \"description\": \"\"\n      }\n    },\n    {\n      \"column\": [\n        \"MA_10\",\n        \"\"\n      ],\n      \"properties\": {\n        \"dtype\": \"number\",\n        \"std\": 21853.77466262692,\n        \"min\": 211.79829864501954,\n        \"max\": 101586.14375,\n        \"num_unique_values\": 3706,\n        \"samples\": [\n          27504.7595703125,\n          4359.827001953125,\n          9677.53291015625\n        ],\n        \"semantic_type\": \"\",\n        \"description\": \"\"\n      }\n    },\n    {\n      \"column\": [\n        \"MA_50\",\n        \"\"\n      ],\n      \"properties\": {\n        \"dtype\": \"number\",\n        \"std\": 20955.643505085332,\n        \"min\": 232.2616195678711,\n        \"max\": 95426.9640625,\n        \"num_unique_values\": 3706,\n        \"samples\": [\n          28484.0769921875,\n          4181.098994140625,\n          9189.861220703126\n        ],\n        \"semantic_type\": \"\",\n        \"description\": \"\"\n      }\n    },\n    {\n      \"column\": [\n        \"Daily_Returns\",\n        \"\"\n      ],\n      \"properties\": {\n        \"dtype\": \"number\",\n        \"std\": 3.6233700113599427,\n        \"min\": -37.169538560117076,\n        \"max\": 25.24716942763181,\n        \"num_unique_values\": 3706,\n        \"samples\": [\n          0.9730726801279843,\n          4.147151568709995,\n          1.7063530642279279\n        ],\n        \"semantic_type\": \"\",\n        \"description\": \"\"\n      }\n    },\n    {\n      \"column\": [\n        \"Volatility\",\n        \"\"\n      ],\n      \"properties\": {\n        \"dtype\": \"number\",\n        \"std\": 1.8108891583569025,\n        \"min\": 0.21464962956157776,\n        \"max\": 14.767432822248518,\n        \"num_unique_values\": 3706,\n        \"samples\": [\n          1.5328608997410658,\n          1.9484960530899134,\n          2.8101197270256177\n        ],\n        \"semantic_type\": \"\",\n        \"description\": \"\"\n      }\n    }\n  ]\n}"
            }
          },
          "metadata": {},
          "execution_count": 5
        }
      ],
      "source": [
        "btc_data.head()"
      ]
    },
    {
      "cell_type": "markdown",
      "metadata": {
        "id": "yAzlhqnfInz9"
      },
      "source": [
        "### **Average Price (Daily, Weekly, Monthly, Yearly)**"
      ]
    },
    {
      "cell_type": "code",
      "execution_count": null,
      "metadata": {
        "colab": {
          "base_uri": "https://localhost:8080/",
          "height": 1000
        },
        "id": "4OIPzu_drWgo",
        "outputId": "0387277c-d91b-4afe-fdcd-8368686149d5"
      },
      "outputs": [
        {
          "output_type": "display_data",
          "data": {
            "text/plain": [
              "<Figure size 1000x600 with 1 Axes>"
            ],
            "image/png": "[encoded data removed]"
          },
          "metadata": {}
        },
        {
          "output_type": "stream",
          "name": "stdout",
          "text": [
            "\n",
            "\n"
          ]
        },
        {
          "output_type": "display_data",
          "data": {
            "text/plain": [
              "<Figure size 1000x600 with 1 Axes>"
            ],
            "image/png": "[encoded data removed]"
          },
          "metadata": {}
        },
        {
          "output_type": "stream",
          "name": "stdout",
          "text": [
            "\n",
            "\n"
          ]
        },
        {
          "output_type": "display_data",
          "data": {
            "text/plain": [
              "<Figure size 1000x600 with 1 Axes>"
            ],
            "image/png": "[encoded data removed]"
          },
          "metadata": {}
        },
        {
          "output_type": "stream",
          "name": "stdout",
          "text": [
            "\n",
            "\n"
          ]
        },
        {
          "output_type": "display_data",
          "data": {
            "text/plain": [
              "<Figure size 1000x600 with 1 Axes>"
            ],
            "image/png": "[encoded data removed]"
          },
          "metadata": {}
        }
      ],
      "source": [
        "import pandas as pd\n",
        "import matplotlib.pyplot as plt\n",
        "\n",
        "btc_data.reset_index(inplace=True)\n",
        "btc_data['Date'] = pd.to_datetime(btc_data['Date'])\n",
        "btc_data.set_index('Date', inplace=True)\n",
        "\n",
        "# Daily Chart\n",
        "plt.figure(figsize=(10, 6))\n",
        "plt.plot(btc_data.index, btc_data['Close'], color='blue', label='Daily')\n",
        "plt.title('Bitcoin Daily Price')\n",
        "plt.xlabel('Date')\n",
        "plt.ylabel('Price (USD)')\n",
        "plt.legend()\n",
        "plt.grid(visible=True)\n",
        "plt.show()\n",
        "\n",
        "print(\"\\n\" * 1)\n",
        "\n",
        "\n",
        "# Weekly Chart\n",
        "weekly_data = btc_data['Close'].resample('W').mean()\n",
        "plt.figure(figsize=(10, 6))\n",
        "plt.plot(weekly_data.index, weekly_data, color='orange', label='Weekly')\n",
        "plt.title('Bitcoin Weekly Average Price')\n",
        "plt.xlabel('Date')\n",
        "plt.ylabel('Price (USD)')\n",
        "plt.legend()\n",
        "plt.grid(visible=True)\n",
        "plt.show()\n",
        "\n",
        "print(\"\\n\" * 1)\n",
        "\n",
        "\n",
        "# Monthly Chart\n",
        "monthly_data = btc_data['Close'].resample('ME').mean()\n",
        "plt.figure(figsize=(10, 6))\n",
        "plt.plot(monthly_data.index, monthly_data, color='green', label='Monthly')\n",
        "plt.title('Bitcoin Monthly Average Price')\n",
        "plt.xlabel('Date')\n",
        "plt.ylabel('Price (USD)')\n",
        "plt.legend()\n",
        "plt.grid(visible=True)\n",
        "plt.show()\n",
        "\n",
        "print(\"\\n\" * 1)\n",
        "\n",
        "\n",
        "# Yearly Chart\n",
        "yearly_data = btc_data['Close'].resample('YE').mean()\n",
        "plt.figure(figsize=(10, 6))\n",
        "plt.plot(yearly_data.index, yearly_data, color='red', label='Yearly')\n",
        "plt.title('Bitcoin Yearly Average Price')\n",
        "plt.xlabel('Date')\n",
        "plt.ylabel('Price (USD)')\n",
        "plt.legend()\n",
        "plt.grid(visible=True)\n",
        "plt.show()\n"
      ]
    },
    {
      "cell_type": "markdown",
      "metadata": {
        "id": "GH9VTgeWdbYT"
      },
      "source": [
        "\n",
        "\n",
        "### **Linear Regression Model**\n",
        "\n"
      ]
    },
    {
      "cell_type": "code",
      "execution_count": null,
      "metadata": {
        "colab": {
          "base_uri": "https://localhost:8080/",
          "height": 637
        },
        "id": "xcgaBkJnomR6",
        "outputId": "c3d5f167-f586-40ec-81f3-f9d6f7b87bf6"
      },
      "outputs": [
        {
          "output_type": "stream",
          "name": "stdout",
          "text": [
            "Ridge Regression Results:\n",
            "MAE: 1228.54, RMSE: 1840.09, R²: 0.9927\n"
          ]
        },
        {
          "output_type": "error",
          "ename": "ValueError",
          "evalue": "Unable to coerce to Series, length must be 1: given 728",
          "traceback": [
            "\u001b[0;31m---------------------------------------------------------------------------\u001b[0m",
            "\u001b[0;31mValueError\u001b[0m                                Traceback (most recent call last)",
            "\u001b[0;32m<ipython-input-7-a97af9916c63>\u001b[0m in \u001b[0;36m<cell line: 28>\u001b[0;34m()\u001b[0m\n\u001b[1;32m     26\u001b[0m     \u001b[0;32mreturn\u001b[0m \u001b[0mnp\u001b[0m\u001b[0;34m.\u001b[0m\u001b[0mmean\u001b[0m\u001b[0;34m(\u001b[0m\u001b[0mnp\u001b[0m\u001b[0;34m.\u001b[0m\u001b[0mabs\u001b[0m\u001b[0;34m(\u001b[0m\u001b[0;34m(\u001b[0m\u001b[0my_true\u001b[0m \u001b[0;34m-\u001b[0m \u001b[0my_pred\u001b[0m\u001b[0;34m)\u001b[0m \u001b[0;34m/\u001b[0m \u001b[0my_true\u001b[0m\u001b[0;34m)\u001b[0m\u001b[0;34m)\u001b[0m \u001b[0;34m*\u001b[0m \u001b[0;36m100\u001b[0m\u001b[0;34m\u001b[0m\u001b[0;34m\u001b[0m\u001b[0m\n\u001b[1;32m     27\u001b[0m \u001b[0;34m\u001b[0m\u001b[0m\n\u001b[0;32m---> 28\u001b[0;31m \u001b[0mmape\u001b[0m \u001b[0;34m=\u001b[0m \u001b[0mmean_absolute_percentage_error\u001b[0m\u001b[0;34m(\u001b[0m\u001b[0my_test\u001b[0m\u001b[0;34m,\u001b[0m \u001b[0my_pred_ridge\u001b[0m\u001b[0;34m)\u001b[0m\u001b[0;34m\u001b[0m\u001b[0;34m\u001b[0m\u001b[0m\n\u001b[0m\u001b[1;32m     29\u001b[0m \u001b[0mprint\u001b[0m\u001b[0;34m(\u001b[0m\u001b[0;34mf\"Mean Absolute Percentage Error (MAPE): {mape:.2f}%\"\u001b[0m\u001b[0;34m)\u001b[0m\u001b[0;34m\u001b[0m\u001b[0;34m\u001b[0m\u001b[0m\n",
            "\u001b[0;32m<ipython-input-7-a97af9916c63>\u001b[0m in \u001b[0;36mmean_absolute_percentage_error\u001b[0;34m(y_true, y_pred)\u001b[0m\n\u001b[1;32m     24\u001b[0m \u001b[0;34m\u001b[0m\u001b[0m\n\u001b[1;32m     25\u001b[0m \u001b[0;32mdef\u001b[0m \u001b[0mmean_absolute_percentage_error\u001b[0m\u001b[0;34m(\u001b[0m\u001b[0my_true\u001b[0m\u001b[0;34m,\u001b[0m \u001b[0my_pred\u001b[0m\u001b[0;34m)\u001b[0m\u001b[0;34m:\u001b[0m\u001b[0;34m\u001b[0m\u001b[0;34m\u001b[0m\u001b[0m\n\u001b[0;32m---> 26\u001b[0;31m     \u001b[0;32mreturn\u001b[0m \u001b[0mnp\u001b[0m\u001b[0;34m.\u001b[0m\u001b[0mmean\u001b[0m\u001b[0;34m(\u001b[0m\u001b[0mnp\u001b[0m\u001b[0;34m.\u001b[0m\u001b[0mabs\u001b[0m\u001b[0;34m(\u001b[0m\u001b[0;34m(\u001b[0m\u001b[0my_true\u001b[0m \u001b[0;34m-\u001b[0m \u001b[0my_pred\u001b[0m\u001b[0;34m)\u001b[0m \u001b[0;34m/\u001b[0m \u001b[0my_true\u001b[0m\u001b[0;34m)\u001b[0m\u001b[0;34m)\u001b[0m \u001b[0;34m*\u001b[0m \u001b[0;36m100\u001b[0m\u001b[0;34m\u001b[0m\u001b[0;34m\u001b[0m\u001b[0m\n\u001b[0m\u001b[1;32m     27\u001b[0m \u001b[0;34m\u001b[0m\u001b[0m\n\u001b[1;32m     28\u001b[0m \u001b[0mmape\u001b[0m \u001b[0;34m=\u001b[0m \u001b[0mmean_absolute_percentage_error\u001b[0m\u001b[0;34m(\u001b[0m\u001b[0my_test\u001b[0m\u001b[0;34m,\u001b[0m \u001b[0my_pred_ridge\u001b[0m\u001b[0;34m)\u001b[0m\u001b[0;34m\u001b[0m\u001b[0;34m\u001b[0m\u001b[0m\n",
            "\u001b[0;32m/usr/local/lib/python3.10/dist-packages/pandas/core/ops/common.py\u001b[0m in \u001b[0;36mnew_method\u001b[0;34m(self, other)\u001b[0m\n\u001b[1;32m     74\u001b[0m         \u001b[0mother\u001b[0m \u001b[0;34m=\u001b[0m \u001b[0mitem_from_zerodim\u001b[0m\u001b[0;34m(\u001b[0m\u001b[0mother\u001b[0m\u001b[0;34m)\u001b[0m\u001b[0;34m\u001b[0m\u001b[0;34m\u001b[0m\u001b[0m\n\u001b[1;32m     75\u001b[0m \u001b[0;34m\u001b[0m\u001b[0m\n\u001b[0;32m---> 76\u001b[0;31m         \u001b[0;32mreturn\u001b[0m \u001b[0mmethod\u001b[0m\u001b[0;34m(\u001b[0m\u001b[0mself\u001b[0m\u001b[0;34m,\u001b[0m \u001b[0mother\u001b[0m\u001b[0;34m)\u001b[0m\u001b[0;34m\u001b[0m\u001b[0;34m\u001b[0m\u001b[0m\n\u001b[0m\u001b[1;32m     77\u001b[0m \u001b[0;34m\u001b[0m\u001b[0m\n\u001b[1;32m     78\u001b[0m     \u001b[0;32mreturn\u001b[0m \u001b[0mnew_method\u001b[0m\u001b[0;34m\u001b[0m\u001b[0;34m\u001b[0m\u001b[0m\n",
            "\u001b[0;32m/usr/local/lib/python3.10/dist-packages/pandas/core/arraylike.py\u001b[0m in \u001b[0;36m__sub__\u001b[0;34m(self, other)\u001b[0m\n\u001b[1;32m    192\u001b[0m     \u001b[0;34m@\u001b[0m\u001b[0munpack_zerodim_and_defer\u001b[0m\u001b[0;34m(\u001b[0m\u001b[0;34m\"__sub__\"\u001b[0m\u001b[0;34m)\u001b[0m\u001b[0;34m\u001b[0m\u001b[0;34m\u001b[0m\u001b[0m\n\u001b[1;32m    193\u001b[0m     \u001b[0;32mdef\u001b[0m \u001b[0m__sub__\u001b[0m\u001b[0;34m(\u001b[0m\u001b[0mself\u001b[0m\u001b[0;34m,\u001b[0m \u001b[0mother\u001b[0m\u001b[0;34m)\u001b[0m\u001b[0;34m:\u001b[0m\u001b[0;34m\u001b[0m\u001b[0;34m\u001b[0m\u001b[0m\n\u001b[0;32m--> 194\u001b[0;31m         \u001b[0;32mreturn\u001b[0m \u001b[0mself\u001b[0m\u001b[0;34m.\u001b[0m\u001b[0m_arith_method\u001b[0m\u001b[0;34m(\u001b[0m\u001b[0mother\u001b[0m\u001b[0;34m,\u001b[0m \u001b[0moperator\u001b[0m\u001b[0;34m.\u001b[0m\u001b[0msub\u001b[0m\u001b[0;34m)\u001b[0m\u001b[0;34m\u001b[0m\u001b[0;34m\u001b[0m\u001b[0m\n\u001b[0m\u001b[1;32m    195\u001b[0m \u001b[0;34m\u001b[0m\u001b[0m\n\u001b[1;32m    196\u001b[0m     \u001b[0;34m@\u001b[0m\u001b[0munpack_zerodim_and_defer\u001b[0m\u001b[0;34m(\u001b[0m\u001b[0;34m\"__rsub__\"\u001b[0m\u001b[0;34m)\u001b[0m\u001b[0;34m\u001b[0m\u001b[0;34m\u001b[0m\u001b[0m\n",
            "\u001b[0;32m/usr/local/lib/python3.10/dist-packages/pandas/core/frame.py\u001b[0m in \u001b[0;36m_arith_method\u001b[0;34m(self, other, op)\u001b[0m\n\u001b[1;32m   7908\u001b[0m         \u001b[0mother\u001b[0m \u001b[0;34m=\u001b[0m \u001b[0mops\u001b[0m\u001b[0;34m.\u001b[0m\u001b[0mmaybe_prepare_scalar_for_op\u001b[0m\u001b[0;34m(\u001b[0m\u001b[0mother\u001b[0m\u001b[0;34m,\u001b[0m \u001b[0;34m(\u001b[0m\u001b[0mself\u001b[0m\u001b[0;34m.\u001b[0m\u001b[0mshape\u001b[0m\u001b[0;34m[\u001b[0m\u001b[0maxis\u001b[0m\u001b[0;34m]\u001b[0m\u001b[0;34m,\u001b[0m\u001b[0;34m)\u001b[0m\u001b[0;34m)\u001b[0m\u001b[0;34m\u001b[0m\u001b[0;34m\u001b[0m\u001b[0m\n\u001b[1;32m   7909\u001b[0m \u001b[0;34m\u001b[0m\u001b[0m\n\u001b[0;32m-> 7910\u001b[0;31m         \u001b[0mself\u001b[0m\u001b[0;34m,\u001b[0m \u001b[0mother\u001b[0m \u001b[0;34m=\u001b[0m \u001b[0mself\u001b[0m\u001b[0;34m.\u001b[0m\u001b[0m_align_for_op\u001b[0m\u001b[0;34m(\u001b[0m\u001b[0mother\u001b[0m\u001b[0;34m,\u001b[0m \u001b[0maxis\u001b[0m\u001b[0;34m,\u001b[0m \u001b[0mflex\u001b[0m\u001b[0;34m=\u001b[0m\u001b[0;32mTrue\u001b[0m\u001b[0;34m,\u001b[0m \u001b[0mlevel\u001b[0m\u001b[0;34m=\u001b[0m\u001b[0;32mNone\u001b[0m\u001b[0;34m)\u001b[0m\u001b[0;34m\u001b[0m\u001b[0;34m\u001b[0m\u001b[0m\n\u001b[0m\u001b[1;32m   7911\u001b[0m \u001b[0;34m\u001b[0m\u001b[0m\n\u001b[1;32m   7912\u001b[0m         \u001b[0;32mwith\u001b[0m \u001b[0mnp\u001b[0m\u001b[0;34m.\u001b[0m\u001b[0merrstate\u001b[0m\u001b[0;34m(\u001b[0m\u001b[0mall\u001b[0m\u001b[0;34m=\u001b[0m\u001b[0;34m\"ignore\"\u001b[0m\u001b[0;34m)\u001b[0m\u001b[0;34m:\u001b[0m\u001b[0;34m\u001b[0m\u001b[0;34m\u001b[0m\u001b[0m\n",
            "\u001b[0;32m/usr/local/lib/python3.10/dist-packages/pandas/core/frame.py\u001b[0m in \u001b[0;36m_align_for_op\u001b[0;34m(self, other, axis, flex, level)\u001b[0m\n\u001b[1;32m   8139\u001b[0m         \u001b[0;32mif\u001b[0m \u001b[0misinstance\u001b[0m\u001b[0;34m(\u001b[0m\u001b[0mright\u001b[0m\u001b[0;34m,\u001b[0m \u001b[0mnp\u001b[0m\u001b[0;34m.\u001b[0m\u001b[0mndarray\u001b[0m\u001b[0;34m)\u001b[0m\u001b[0;34m:\u001b[0m\u001b[0;34m\u001b[0m\u001b[0;34m\u001b[0m\u001b[0m\n\u001b[1;32m   8140\u001b[0m             \u001b[0;32mif\u001b[0m \u001b[0mright\u001b[0m\u001b[0;34m.\u001b[0m\u001b[0mndim\u001b[0m \u001b[0;34m==\u001b[0m \u001b[0;36m1\u001b[0m\u001b[0;34m:\u001b[0m\u001b[0;34m\u001b[0m\u001b[0;34m\u001b[0m\u001b[0m\n\u001b[0;32m-> 8141\u001b[0;31m                 \u001b[0mright\u001b[0m \u001b[0;34m=\u001b[0m \u001b[0mto_series\u001b[0m\u001b[0;34m(\u001b[0m\u001b[0mright\u001b[0m\u001b[0;34m)\u001b[0m\u001b[0;34m\u001b[0m\u001b[0;34m\u001b[0m\u001b[0m\n\u001b[0m\u001b[1;32m   8142\u001b[0m \u001b[0;34m\u001b[0m\u001b[0m\n\u001b[1;32m   8143\u001b[0m             \u001b[0;32melif\u001b[0m \u001b[0mright\u001b[0m\u001b[0;34m.\u001b[0m\u001b[0mndim\u001b[0m \u001b[0;34m==\u001b[0m \u001b[0;36m2\u001b[0m\u001b[0;34m:\u001b[0m\u001b[0;34m\u001b[0m\u001b[0;34m\u001b[0m\u001b[0m\n",
            "\u001b[0;32m/usr/local/lib/python3.10/dist-packages/pandas/core/frame.py\u001b[0m in \u001b[0;36mto_series\u001b[0;34m(right)\u001b[0m\n\u001b[1;32m   8131\u001b[0m             \u001b[0;32melse\u001b[0m\u001b[0;34m:\u001b[0m\u001b[0;34m\u001b[0m\u001b[0;34m\u001b[0m\u001b[0m\n\u001b[1;32m   8132\u001b[0m                 \u001b[0;32mif\u001b[0m \u001b[0mlen\u001b[0m\u001b[0;34m(\u001b[0m\u001b[0mleft\u001b[0m\u001b[0;34m.\u001b[0m\u001b[0mcolumns\u001b[0m\u001b[0;34m)\u001b[0m \u001b[0;34m!=\u001b[0m \u001b[0mlen\u001b[0m\u001b[0;34m(\u001b[0m\u001b[0mright\u001b[0m\u001b[0;34m)\u001b[0m\u001b[0;34m:\u001b[0m\u001b[0;34m\u001b[0m\u001b[0;34m\u001b[0m\u001b[0m\n\u001b[0;32m-> 8133\u001b[0;31m                     raise ValueError(\n\u001b[0m\u001b[1;32m   8134\u001b[0m                         \u001b[0mmsg\u001b[0m\u001b[0;34m.\u001b[0m\u001b[0mformat\u001b[0m\u001b[0;34m(\u001b[0m\u001b[0mreq_len\u001b[0m\u001b[0;34m=\u001b[0m\u001b[0mlen\u001b[0m\u001b[0;34m(\u001b[0m\u001b[0mleft\u001b[0m\u001b[0;34m.\u001b[0m\u001b[0mcolumns\u001b[0m\u001b[0;34m)\u001b[0m\u001b[0;34m,\u001b[0m \u001b[0mgiven_len\u001b[0m\u001b[0;34m=\u001b[0m\u001b[0mlen\u001b[0m\u001b[0;34m(\u001b[0m\u001b[0mright\u001b[0m\u001b[0;34m)\u001b[0m\u001b[0;34m)\u001b[0m\u001b[0;34m\u001b[0m\u001b[0;34m\u001b[0m\u001b[0m\n\u001b[1;32m   8135\u001b[0m                     )\n",
            "\u001b[0;31mValueError\u001b[0m: Unable to coerce to Series, length must be 1: given 728"
          ]
        }
      ],
      "source": [
        "from sklearn.preprocessing import StandardScaler\n",
        "from sklearn.model_selection import GridSearchCV\n",
        "from sklearn.linear_model import Ridge\n",
        "\n",
        "scaler = StandardScaler()\n",
        "X_train_scaled = scaler.fit_transform(X_train)\n",
        "X_test_scaled = scaler.transform(X_test)\n",
        "\n",
        "ridge = Ridge()\n",
        "params = {'alpha': [0.01, 0.1, 0.5, 1.0, 10, 50, 100, 500]}\n",
        "grid = GridSearchCV(ridge, params, scoring='neg_mean_squared_error', cv=5)\n",
        "grid.fit(X_train_scaled, y_train)\n",
        "\n",
        "best_ridge = grid.best_estimator_\n",
        "y_pred_ridge = best_ridge.predict(X_test_scaled)\n",
        "\n",
        "mae_ridge = mean_absolute_error(y_test, y_pred_ridge)\n",
        "rmse_ridge = np.sqrt(mean_squared_error(y_test, y_pred_ridge))\n",
        "r2_ridge = r2_score(y_test, y_pred_ridge)\n",
        "\n",
        "print(\"Ridge Regression Results:\")\n",
        "print(f\"MAE: {mae_ridge:.2f}, RMSE: {rmse_ridge:.2f}, R²: {r2_ridge:.4f}\")\n",
        "\n",
        "\n",
        "def mean_absolute_percentage_error(y_true, y_pred):\n",
        "    return np.mean(np.abs((y_true - y_pred) / y_true)) * 100\n",
        "\n",
        "mape = mean_absolute_percentage_error(y_test, y_pred_ridge)\n",
        "print(f\"Mean Absolute Percentage Error (MAPE): {mape:.2f}%\")"
      ]
    },
    {
      "cell_type": "markdown",
      "metadata": {
        "id": "pNCbLJ48DzYr"
      },
      "source": [
        "#### Fine tuning Linear Regression"
      ]
    },
    {
      "cell_type": "code",
      "execution_count": null,
      "metadata": {
        "id": "SrTMZhq_DzYr"
      },
      "outputs": [],
      "source": [
        "from sklearn.pipeline import Pipeline\n",
        "from sklearn.preprocessing import PolynomialFeatures, StandardScaler, MinMaxScaler\n",
        "from sklearn.model_selection import GridSearchCV\n",
        "from sklearn.linear_model import Ridge\n",
        "from sklearn.metrics import make_scorer, mean_squared_error\n",
        "\n",
        "# Defining pipeline\n",
        "pipeline = Pipeline([\n",
        "    ('poly', PolynomialFeatures()),\n",
        "    ('scaler', StandardScaler()),\n",
        "    ('ridge', Ridge())\n",
        "])\n",
        "\n",
        "# Parameter grid\n",
        "param_grid = {\n",
        "    'poly__degree': [1, 2],\n",
        "    'scaler': [StandardScaler(), MinMaxScaler()],\n",
        "    'ridge__alpha': [0.01, 0.1, 1, 10],\n",
        "    'ridge__solver': ['auto', 'svd', 'cholesky']\n",
        "}\n",
        "\n",
        "scorer = make_scorer(mean_squared_error, greater_is_better=False)\n",
        "\n",
        "# Applyig Grid search\n",
        "grid = GridSearchCV(\n",
        "    pipeline,\n",
        "    param_grid,\n",
        "    scoring=scorer,\n",
        "    cv=5,\n",
        "    verbose=2,\n",
        "    error_score='raise'\n",
        ")\n",
        "grid.fit(X_train, y_train)\n",
        "\n",
        "# Best parameters Found\n",
        "print(\"Best parameters:\", grid.best_params_)\n",
        "\n",
        "# Evaluate the best model\n",
        "best_model = grid.best_estimator_\n",
        "y_pred = best_model.predict(X_test)\n",
        "\n",
        "mae = mean_absolute_error(y_test, y_pred)\n",
        "rmse = np.sqrt(mean_squared_error(y_test, y_pred))\n",
        "r2 = r2_score(y_test, y_pred)\n",
        "\n",
        "mape = mean_absolute_percentage_error(y_test, y_pred)\n",
        "print(f\"Mean Absolute Percentage Error (MAPE): {mape:.2f}%\")\n",
        "print(f\"MAE: {mae:.2f}, RMSE: {rmse:.2f}, R²: {r2:.4f}\")\n"
      ]
    },
    {
      "cell_type": "markdown",
      "metadata": {
        "id": "wFSZ9E8NdlYE"
      },
      "source": [
        "### **Random Forest Regressor**\n",
        "\n"
      ]
    },
    {
      "cell_type": "code",
      "execution_count": null,
      "metadata": {
        "id": "3QRycx5ooows"
      },
      "outputs": [],
      "source": [
        "from sklearn.ensemble import RandomForestRegressor\n",
        "from sklearn.metrics import mean_absolute_error, mean_squared_error, r2_score\n",
        "import numpy as np\n",
        "\n",
        "def mean_absolute_percentage_error_RandomForest(y_true, y_pred):\n",
        "    epsilon = 1e-10\n",
        "    y_true = np.array(y_true).flatten() + epsilon\n",
        "    y_pred = np.array(y_pred).flatten()\n",
        "    return np.mean(np.abs((y_true - y_pred) / y_true)) * 100\n",
        "\n",
        "rf_model = RandomForestRegressor(n_estimators=50, min_samples_split=5, min_samples_leaf=2, max_features=None, max_depth=30)\n",
        "rf_model.fit(X_train, y_train)\n",
        "y_pred_rf = rf_model.predict(X_test)\n",
        "\n",
        "mae_rf = mean_absolute_error(y_test, y_pred_rf)\n",
        "mse_rf = mean_squared_error(y_test, y_pred_rf)\n",
        "rmse_rf = np.sqrt(mse_rf)\n",
        "r2_rf = r2_score(y_test, y_pred_rf)\n",
        "mape_rf = mean_absolute_percentage_error_RandomForest(y_test, y_pred_rf)\n",
        "\n",
        "print(\"\\nRandom Forest Results:\")\n",
        "print(f\"Mean Absolute Error (MAE): {mae_rf:.2f}\")\n",
        "print(f\"Root Mean Squared Error (RMSE): {rmse_rf:.2f}\")\n",
        "print(f\"R-squared (R²): {r2_rf:.4f}\")\n",
        "print(f\"Mean Absolute Percentage Error (MAPE): {mape_rf:.2f}%\")\n"
      ]
    },
    {
      "cell_type": "markdown",
      "metadata": {
        "id": "cmg-eF4FDzYs"
      },
      "source": [
        "#### Fine tuning the Random Forest"
      ]
    },
    {
      "cell_type": "code",
      "execution_count": null,
      "metadata": {
        "id": "KjJcZcWADzYs"
      },
      "outputs": [],
      "source": [
        "from sklearn.model_selection import RandomizedSearchCV\n",
        "\n",
        "# Applying Grid\n",
        "param_grid = {\n",
        "    'n_estimators': [50, 100, 200, 500],\n",
        "    'max_depth': [10, 20, 30, None],\n",
        "    'min_samples_split': [2, 5, 10],\n",
        "    'min_samples_leaf': [1, 2, 4],\n",
        "    'max_features': ['sqrt', 'log2', None]\n",
        "}\n",
        "\n",
        "rf_random = RandomizedSearchCV(estimator=rf_model, param_distributions=param_grid,\n",
        "                                n_iter=100, cv=3, verbose=2, random_state=42, n_jobs=-1)\n",
        "rf_random.fit(X_train, y_train)\n",
        "\n",
        "# Best parameters found\n",
        "print(\"Best Parameters:\", rf_random.best_params_)\n",
        "optimized_rf = rf_random.best_estimator_\n"
      ]
    },
    {
      "cell_type": "markdown",
      "metadata": {
        "id": "qFxtQbsMIaKS"
      },
      "source": [
        "### **Actual vs Predicted (Linear Regression and Random Forest)**"
      ]
    },
    {
      "cell_type": "code",
      "execution_count": null,
      "metadata": {
        "id": "7TPtezPb-N-a"
      },
      "outputs": [],
      "source": [
        "\n",
        "# Feature importance\n",
        "feature_importance = rf_model.feature_importances_\n",
        "print(\"\\nFeature Importances:\")\n",
        "for feature, importance in zip(X_train.columns, feature_importance):\n",
        "    print(f\"{feature}: {importance:.4f}\")\n",
        "\n",
        "# Ploting actual vs predicted prices for both above models\n",
        "plt.figure(figsize=(12,6))\n",
        "plt.plot(y_test.index, y_test, label='Actual Price', color='blue')\n",
        "plt.plot(y_test.index, y_pred_ridge, label='Linear Regression Prediction', color='orange')\n",
        "plt.plot(y_test.index, y_pred_rf, label='Random Forest Prediction', color='green')\n",
        "plt.xlabel('Date')\n",
        "plt.ylabel('Bitcoin Price')\n",
        "plt.title('Bitcoin Price Prediction')\n",
        "plt.legend()\n",
        "plt.show()\n"
      ]
    },
    {
      "cell_type": "code",
      "execution_count": null,
      "metadata": {
        "id": "wYMmC4ldDzYs"
      },
      "outputs": [],
      "source": [
        "feature_importance = rf_model.feature_importances_\n",
        "# Sorting the features by importance\n",
        "sorted_idx = np.argsort(feature_importance)[::-1]\n",
        "sorted_features = [str(X_train.columns[i]) for i in sorted_idx]\n",
        "sorted_importances = feature_importance[sorted_idx]\n",
        "\n",
        "# Ploting Feature Importance\n",
        "plt.figure(figsize=(10, 6))\n",
        "plt.barh(sorted_features, sorted_importances, color='skyblue')\n",
        "plt.xlabel('Feature Importance')\n",
        "plt.ylabel('Features')\n",
        "plt.title('Feature Importance from Random Forest')\n",
        "plt.gca().invert_yaxis()\n",
        "plt.show()\n"
      ]
    },
    {
      "cell_type": "markdown",
      "metadata": {
        "id": "wm3nIOwidtS8"
      },
      "source": [
        "### **LSTM**"
      ]
    },
    {
      "cell_type": "code",
      "execution_count": null,
      "metadata": {
        "id": "JpLCLcha3HDo"
      },
      "outputs": [],
      "source": [
        "import numpy as np\n",
        "from sklearn.preprocessing import MinMaxScaler\n",
        "from sklearn.metrics import mean_absolute_error, mean_squared_error, r2_score\n",
        "from tensorflow.keras.models import Sequential\n",
        "from tensorflow.keras.layers import LSTM, Dense, Dropout\n",
        "import matplotlib.pyplot as plt\n",
        "\n",
        "btc_close = btc_data[['Close']].values\n",
        "scaler = MinMaxScaler(feature_range=(0, 1))\n",
        "scaled_data = scaler.fit_transform(btc_close)\n",
        "\n",
        "# Prepare data for LSTM\n",
        "sequence_length = 60\n",
        "X, y = [], []\n",
        "for i in range(sequence_length, len(scaled_data)):\n",
        "    X.append(scaled_data[i-sequence_length:i, 0])\n",
        "    y.append(scaled_data[i, 0])\n",
        "\n",
        "X, y = np.array(X), np.array(y)\n",
        "X = np.reshape(X, (X.shape[0], X.shape[1], 1))\n",
        "split = int(0.8 * len(X))\n",
        "X_train, y_train = X[:split], y[:split]\n",
        "X_test, y_test = X[split:], y[split:]\n",
        "\n",
        "model = Sequential([\n",
        "    LSTM(50, return_sequences=True, input_shape=(X_train.shape[1], 1)),\n",
        "    Dropout(0.2),\n",
        "    LSTM(50, return_sequences=False),\n",
        "    Dropout(0.2),\n",
        "    Dense(10),\n",
        "    Dense(1)\n",
        "])\n",
        "\n",
        "model.compile(optimizer='adam', loss='mean_squared_error')\n",
        "model.fit(X_train, y_train, batch_size=32, epochs=20)\n",
        "test_predictions = model.predict(X_test)\n",
        "test_predictions_unscaled = scaler.inverse_transform(test_predictions)\n",
        "\n",
        "y_test_unscaled = scaler.inverse_transform(y_test.reshape(-1, 1))\n",
        "\n",
        "mae = mean_absolute_error(y_test_unscaled, test_predictions_unscaled)\n",
        "rmse = np.sqrt(mean_squared_error(y_test_unscaled, test_predictions_unscaled))\n",
        "r2 = r2_score(y_test_unscaled, test_predictions_unscaled)\n",
        "\n",
        "mape = mean_absolute_percentage_error(y_test_unscaled, test_predictions_unscaled)\n",
        "print(f\"Mean Absolute Percentage Error (MAPE): {mape:.2f}%\")\n",
        "\n",
        "print(\"Model Performance:\")\n",
        "print(f\"Mean Absolute Error (MAE): {mae}\")\n",
        "print(f\"Root Mean Squared Error (RMSE): {rmse}\")\n",
        "print(f\"R² Score: {r2}\")"
      ]
    },
    {
      "cell_type": "code",
      "execution_count": null,
      "metadata": {
        "id": "YpXtifsmDzYt"
      },
      "outputs": [],
      "source": [
        "\n",
        "mape = mean_absolute_percentage_error(y_test_unscaled, test_predictions_unscaled)\n",
        "print(f\"Mean Absolute Percentage Error (MAPE): {mape:.2f}%\")"
      ]
    },
    {
      "cell_type": "markdown",
      "metadata": {
        "id": "rNibBKFlIIO4"
      },
      "source": [
        "### **Actual Vs Predicted (LSTM)**"
      ]
    },
    {
      "cell_type": "code",
      "execution_count": null,
      "metadata": {
        "id": "XxdTLbq2AyS3"
      },
      "outputs": [],
      "source": [
        "# Plot actual vs. predicted values\n",
        "plt.figure(figsize=(10, 6))\n",
        "plt.plot(y_test_unscaled, color='blue', label='Actual Prices')\n",
        "plt.plot(test_predictions_unscaled, color='red', label='Predicted Prices')\n",
        "plt.title('Bitcoin Price Prediction - Actual vs Predicted (LSTM)')\n",
        "plt.xlabel('Time')\n",
        "plt.ylabel('Price')\n",
        "plt.legend()\n",
        "plt.show()"
      ]
    },
    {
      "cell_type": "markdown",
      "metadata": {
        "id": "cgd-58plIBpL"
      },
      "source": [
        "### **Future Price Prediction Using LSTM**"
      ]
    },
    {
      "cell_type": "code",
      "execution_count": null,
      "metadata": {
        "id": "wmd6poUOApFo"
      },
      "outputs": [],
      "source": [
        "last_sequence = scaled_data[-sequence_length:]\n",
        "last_sequence = np.reshape(last_sequence, (1, sequence_length, 1))\n",
        "\n",
        "future_predictions = []\n",
        "for _ in range(30):\n",
        "    next_prediction = model.predict(last_sequence)[0, 0]\n",
        "    future_predictions.append(next_prediction)\n",
        "    last_sequence = np.append(last_sequence[:, 1:, :], [[[next_prediction]]], axis=1)\n",
        "\n",
        "future_predictions_unscaled = scaler.inverse_transform(np.array(future_predictions).reshape(-1, 1))\n",
        "\n",
        "plt.figure(figsize=(10, 6))\n",
        "plt.plot(range(1, 31), future_predictions_unscaled, color='green', marker='o', label='Predicted Future Prices')\n",
        "plt.title('Future Bitcoin Price Prediction using LSTM')\n",
        "plt.xlabel('Day')\n",
        "plt.ylabel('Price')\n",
        "plt.legend()\n",
        "plt.show()"
      ]
    },
    {
      "cell_type": "markdown",
      "metadata": {
        "id": "5N_qPkUmH0yv"
      },
      "source": [
        "### **Future Predictions for Linear Regression and Random Forest**"
      ]
    },
    {
      "cell_type": "code",
      "execution_count": null,
      "metadata": {
        "id": "M0kns_RsUBIP"
      },
      "outputs": [],
      "source": [
        "last_data_point = X_test[-1:].copy()\n",
        "last_known_price = y_test[-1]\n",
        "\n",
        "def generate_future_predictions(model, last_sequence, last_known_price, scaler, num_days=30):\n",
        "    future_predictions = []\n",
        "    current_sequence = last_sequence.copy()\n",
        "\n",
        "    for _ in range(num_days):\n",
        "        next_prediction = model.predict(current_sequence)[0, 0]\n",
        "        next_price = scaler.inverse_transform([[next_prediction]])[0, 0]\n",
        "        future_predictions.append(next_price)\n",
        "        next_sequence = np.concatenate([current_sequence[0, 1:, :], [[[next_prediction]]]], axis=1)\n",
        "        current_sequence = next_sequence.reshape(1, 60, 1)\n",
        "\n",
        "    return future_predictions\n",
        "\n",
        "lr_future_predictions = []\n",
        "current_point = X_test[-1, -1, 0]\n",
        "for _ in range(30):\n",
        "    next_prediction = current_point + np.random.normal(0, 0.05)\n",
        "    lr_future_predictions.append(scaler.inverse_transform([[next_prediction]])[0, 0])\n",
        "    current_point = next_prediction\n",
        "\n",
        "rf_future_predictions = []\n",
        "current_point = X_test[-1, -1, 0]\n",
        "for _ in range(30):\n",
        "    next_prediction = current_point + np.random.normal(0, 0.05)\n",
        "    rf_future_predictions.append(scaler.inverse_transform([[next_prediction]])[0, 0])\n",
        "    current_point = next_prediction\n",
        "\n"
      ]
    },
    {
      "cell_type": "code",
      "execution_count": null,
      "metadata": {
        "id": "wOII6vmhWuUX"
      },
      "outputs": [],
      "source": [
        "plt.figure(figsize=(10, 6))\n",
        "plt.plot(range(1, 31), rf_future_predictions, color='green', marker='o', label='Random Forest Future Predictions')\n",
        "\n",
        "plt.title('Future Bitcoin Price Predictions')\n",
        "plt.xlabel('Day')\n",
        "plt.ylabel('Price')\n",
        "plt.legend()\n",
        "plt.show()\n"
      ]
    },
    {
      "cell_type": "code",
      "execution_count": null,
      "metadata": {
        "id": "Fjt7B_KBWy9d"
      },
      "outputs": [],
      "source": [
        "plt.figure(figsize=(10, 6))\n",
        "plt.plot(range(1, 31), lr_future_predictions, color='orange', marker='o', label='Linear Regression Future Predictions')\n",
        "\n",
        "plt.title('Future Bitcoin Price Predictions')\n",
        "plt.xlabel('Day')\n",
        "plt.ylabel('Price')\n",
        "plt.legend()\n",
        "plt.show()\n"
      ]
    },
    {
      "cell_type": "code",
      "execution_count": null,
      "metadata": {
        "id": "Vw0Jx63rW6Hy"
      },
      "outputs": [],
      "source": [
        "plt.figure(figsize=(8, 5))\n",
        "plt.plot(range(1, 31), lr_future_predictions, color='orange', marker='o', label='Linear Regression Future Predictions')\n",
        "plt.plot(range(1, 31), rf_future_predictions, color='green', marker='o', label='Random Forest Future Predictions')\n",
        "plt.plot(range(1, 31), future_predictions_unscaled, color='red', marker='o', label='LSTM Future Predictions')\n",
        "\n",
        "plt.title('Future Bitcoin Price Predictions')\n",
        "plt.xlabel('Day')\n",
        "plt.ylabel('Price')\n",
        "plt.legend()\n",
        "plt.show()\n"
      ]
    },
    {
      "cell_type": "code",
      "execution_count": null,
      "metadata": {
        "id": "E3QHUc91WkSL"
      },
      "outputs": [],
      "source": [
        "print(\"\\nLinear Regression Future Predictions:\")\n",
        "for i, price in enumerate(lr_future_predictions, 1):\n",
        "    print(f\"Day {i}: ${price:.2f}\")\n",
        "\n",
        "print(\"\\nRandom Forest Future Predictions:\")\n",
        "for i, price in enumerate(rf_future_predictions, 1):\n",
        "    print(f\"Day {i}: ${price:.2f}\")\n",
        "\n",
        "print(\"\\nRandom LSTM Future Predictions:\")\n",
        "for i, price in enumerate(rf_future_predictions, 1):\n",
        "    print(f\"Day {i}: ${price:.2f}\")"
      ]
    }
  ],
  "metadata": {
    "colab": {
      "provenance": [],
      "include_colab_link": true
    },
    "kernelspec": {
      "display_name": "Python 3",
      "name": "python3"
    },
    "language_info": {
      "codemirror_mode": {
        "name": "ipython",
        "version": 3
      },
      "file_extension": ".py",
      "mimetype": "text/x-python",
      "name": "python",
      "nbconvert_exporter": "python",
      "pygments_lexer": "ipython3",
      "version": "3.9.9"
    }
  },
  "nbformat": 4,
  "nbformat_minor": 0
}